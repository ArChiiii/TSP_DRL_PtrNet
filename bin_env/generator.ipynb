{
 "cells": [
  {
   "cell_type": "code",
   "execution_count": 33,
   "metadata": {},
   "outputs": [],
   "source": [
    "\n",
    "import numpy as np \n",
    "import matplotlib.pyplot as plt\n",
    "import random\n",
    "import math\n",
    "\n",
    "\n",
    "class PartitionGenerator():\n",
    "    def __init__(self, minWidth,  maxWidth, maxAspectRatioDeviationPercentage, containerheight=100, containerwidth=100):\n",
    "        self.minWidth = minWidth\n",
    "        self.maxWidth = maxWidth\n",
    "        # If this is 70, than Height will be 30% to 170% of Width\n",
    "        self.minHeight = math.floor(minWidth * (1-maxAspectRatioDeviationPercentage/100))\n",
    "        self.maxHeight = math.floor(maxWidth * (1+maxAspectRatioDeviationPercentage/100))\n",
    "        self.containerwidth = containerwidth\n",
    "        self.containerheight = containerheight\n",
    "\n",
    "\n",
    "        self.array2D = np.zeros((containerheight, containerwidth), dtype=bool)\n",
    "\n",
    "        self.nextEmptySpace = {\"x\": 0, \"y\": 0}\n",
    "\n",
    "    def generate(self, point=5, save=False):\n",
    "\n",
    "        xlist = []\n",
    "        ylist = []\n",
    "\n",
    "        pointlist = []\n",
    "        regen = True\n",
    "\n",
    "        for i in range(point):\n",
    "           \n",
    "            while regen:\n",
    "                x = random.randint(self.minWidth, self.containerwidth-self.minWidth)\n",
    "                y = random.randint(self.minHeight, self.containerheight-self.minHeight)\n",
    "                \n",
    "                for xx in xlist:\n",
    "                    if abs(x-xx) < 5:\n",
    "                       break\n",
    "\n",
    "                for yy in xlist:\n",
    "                    if abs(y-yy) < 5:\n",
    "                        break\n",
    "                \n",
    "                regen = False\n",
    "                \n",
    "                        \n",
    "\n",
    "\n",
    "            xlist.append(x)\n",
    "            ylist.append(y)\n",
    "\n",
    "            lowx, lowy = (0,0)\n",
    "            highx = self.containerwidth\n",
    "            highy = self.containerheight\n",
    "\n",
    "            for point in pointlist:\n",
    "\n",
    "\n",
    "\n",
    "                \n",
    "                if point[0] > lowx and point[0]< x:\n",
    "                    if self.array2D[point[0],y]:\n",
    "                        lowx = point[0] \n",
    "                if point[0] < highx and point[0]> x:\n",
    "                    if self.array2D[point[0],y]:\n",
    "                        highx = point[0]\n",
    "                if point[1] > lowy and point[1]< y:\n",
    "                    if self.array2D[x,point[1]]:\n",
    "                        lowy = point[1]\n",
    "                if point[1] < highy and point[1]> y:\n",
    "                    if self.array2D[x,point[1]]:\n",
    "                        highy = point[1]\n",
    "\n",
    "            \n",
    "            self.array2D[x,lowy:highy] = True\n",
    "            self.array2D[lowx:highx,y] = True\n",
    "\n",
    "            print(\"point:\", (x,y))\n",
    "\n",
    "            pointlist.append((x,y))\n",
    "            plt.imshow(self.array2D, interpolation='none')\n",
    "            plt.show()  \n",
    "\n",
    "\n",
    "\n",
    "\n",
    "       "
   ]
  },
  {
   "cell_type": "code",
   "execution_count": 22,
   "metadata": {},
   "outputs": [
    {
     "data": {
      "image/png": "[encoded data removed]",
      "text/plain": [
       "<Figure size 432x288 with 1 Axes>"
      ]
     },
     "metadata": {
      "needs_background": "light"
     },
     "output_type": "display_data"
    }
   ],
   "source": [
    "array2D = np.zeros((100, 100), dtype=bool)\n",
    "\n",
    "array2D[10,:] = True\n",
    "array2D[:,25] = True\n",
    "\n",
    "\n",
    "array2D[34,56] = True\n",
    "\n",
    "\n",
    "plt.imshow(array2D)\n",
    "plt.show()"
   ]
  },
  {
   "cell_type": "code",
   "execution_count": 35,
   "metadata": {},
   "outputs": [
    {
     "name": "stdout",
     "output_type": "stream",
     "text": [
      "point: (45, 50)\n"
     ]
    },
    {
     "data": {
      "image/png": "[encoded data removed]",
      "text/plain": [
       "<Figure size 432x288 with 1 Axes>"
      ]
     },
     "metadata": {
      "needs_background": "light"
     },
     "output_type": "display_data"
    },
    {
     "name": "stdout",
     "output_type": "stream",
     "text": [
      "point: (63, 70)\n"
     ]
    },
    {
     "data": {
      "image/png": "[encoded data removed]",
      "text/plain": [
       "<Figure size 432x288 with 1 Axes>"
      ]
     },
     "metadata": {
      "needs_background": "light"
     },
     "output_type": "display_data"
    },
    {
     "name": "stdout",
     "output_type": "stream",
     "text": [
      "point: (31, 70)\n"
     ]
    },
    {
     "data": {
      "image/png": "[encoded data removed]",
      "text/plain": [
       "<Figure size 432x288 with 1 Axes>"
      ]
     },
     "metadata": {
      "needs_background": "light"
     },
     "output_type": "display_data"
    },
    {
     "name": "stdout",
     "output_type": "stream",
     "text": [
      "point: (36, 22)\n"
     ]
    },
    {
     "data": {
      "image/png": "[encoded data removed]",
      "text/plain": [
       "<Figure size 432x288 with 1 Axes>"
      ]
     },
     "metadata": {
      "needs_background": "light"
     },
     "output_type": "display_data"
    },
    {
     "name": "stdout",
     "output_type": "stream",
     "text": [
      "point: (69, 73)\n"
     ]
    },
    {
     "data": {
      "image/png": "[encoded data removed]",
      "text/plain": [
       "<Figure size 432x288 with 1 Axes>"
      ]
     },
     "metadata": {
      "needs_background": "light"
     },
     "output_type": "display_data"
    }
   ],
   "source": [
    "p =PartitionGenerator(20,50,70)\n",
    "p.generate()"
   ]
  },
  {
   "cell_type": "code",
   "execution_count": null,
   "metadata": {},
   "outputs": [],
   "source": []
  },
  {
   "cell_type": "code",
   "execution_count": null,
   "metadata": {},
   "outputs": [],
   "source": []
  }
 ],
 "metadata": {
  "interpreter": {
   "hash": "42cb54af7efd40d0e0586b200d921f8bcd9cd3ed7af308967544b17034835e16"
  },
  "kernelspec": {
   "display_name": "Python 3.8.3 64-bit ('base': conda)",
   "name": "python3"
  },
  "language_info": {
   "codemirror_mode": {
    "name": "ipython",
    "version": 3
   },
   "file_extension": ".py",
   "mimetype": "text/x-python",
   "name": "python",
   "nbconvert_exporter": "python",
   "pygments_lexer": "ipython3",
   "version": "3.8.3"
  },
  "orig_nbformat": 4
 },
 "nbformat": 4,
 "nbformat_minor": 2
}
